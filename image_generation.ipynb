{
 "cells": [
  {
   "cell_type": "markdown",
   "id": "c654f950",
   "metadata": {},
   "source": [
    "# Image Generation"
   ]
  },
  {
   "cell_type": "markdown",
   "id": "c65a40b4",
   "metadata": {},
   "source": [
    "Most common models:\n",
    "\n",
    "1. Gen Adversarial\n",
    "1. Variational Auto-Encoder\n",
    "1. Diffusion Models"
   ]
  },
  {
   "cell_type": "markdown",
   "id": "9eae7271",
   "metadata": {},
   "source": [
    "Utah Teapot - 1975: created using symbolic AI\n",
    "\n",
    "Deep Belief Networks - 2006\n",
    "\n",
    "Convolutional Deep Belief Networks - 2009\n",
    "\n",
    "Varational Auto-Endcoder - 2014\n",
    "\n",
    "Generative Adversarial Network - 2014\n",
    "\n",
    "Deep Convolutional GAN (DCGAN) - 2016\n",
    "\n",
    "Pixel Recurrent Neural Network - 2016\n",
    "\n",
    "Style GAN - 2019\n",
    "\n",
    "Big GAN - 2019\n",
    "\n",
    "Image GPT - 2020\n",
    "\n",
    "Contrast Language Image Pretraining (CLIP) - 2021\n",
    "\n",
    "DALL-E Zero-Shot - 2021\n",
    "\n",
    "Stable Diffusion - 2021\n",
    "\n",
    "Control Net - 2023"
   ]
  },
  {
   "cell_type": "markdown",
   "id": "4b176b93",
   "metadata": {},
   "source": [
    "### Generative Adversarial Network"
   ]
  },
  {
   "cell_type": "markdown",
   "id": "d461b179",
   "metadata": {},
   "source": []
  }
 ],
 "metadata": {
  "language_info": {
   "name": "python"
  }
 },
 "nbformat": 4,
 "nbformat_minor": 5
}
