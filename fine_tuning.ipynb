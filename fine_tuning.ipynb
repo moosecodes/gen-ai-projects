{
 "cells": [
  {
   "cell_type": "markdown",
   "id": "5aa4ab53",
   "metadata": {},
   "source": [
    "# Fine Tuning"
   ]
  },
  {
   "cell_type": "markdown",
   "id": "d8c0969d",
   "metadata": {},
   "source": [
    "#### Open Source vs. Proprietary LMM\n",
    "\n",
    "LLMs can be restricted by providers to not discuss certain topics, etc.\n",
    "\n",
    "Open source LLMs can be fine-tuned, customized, and used more freely."
   ]
  }
 ],
 "metadata": {
  "language_info": {
   "name": "python"
  }
 },
 "nbformat": 4,
 "nbformat_minor": 5
}
