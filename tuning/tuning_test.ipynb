{
 "cells": [
  {
   "cell_type": "markdown",
   "id": "a104c9e6",
   "metadata": {},
   "source": [
    "# Initial testing from ChatGPT"
   ]
  },
  {
   "cell_type": "markdown",
   "id": "3492b5a8",
   "metadata": {},
   "source": [
    "1. Install Dependencies (Colab/First Cell)"
   ]
  },
  {
   "cell_type": "code",
   "execution_count": null,
   "id": "b2a661c4",
   "metadata": {},
   "outputs": [],
   "source": [
    "#%pip install transformers datasets peft accelerate bitsandbytes\n",
    "#%pip install trl xformers"
   ]
  },
  {
   "cell_type": "markdown",
   "id": "94ee682d",
   "metadata": {},
   "source": [
    "2. Load Base Model + Tokenizer"
   ]
  },
  {
   "cell_type": "code",
   "execution_count": null,
   "id": "9592ec5d",
   "metadata": {},
   "outputs": [],
   "source": [
    "from transformers import AutoModelForCausalLM, AutoTokenizer\n",
    "\n",
    "model_name = \"mistralai/Mistral-7B-v0.1\"\n",
    "tokenizer = AutoTokenizer.from_pretrained(model_name)\n",
    "model = AutoModelForCausalLM.from_pretrained(\n",
    "    model_name,\n",
    "    load_in_4bit=True,\n",
    "    device_map=\"auto\"\n",
    ")\n"
   ]
  },
  {
   "cell_type": "markdown",
   "id": "a77d671d",
   "metadata": {},
   "source": [
    "3. Load and Format Dataset"
   ]
  },
  {
   "cell_type": "code",
   "execution_count": null,
   "id": "0b688912",
   "metadata": {},
   "outputs": [],
   "source": [
    "from datasets import load_dataset\n",
    "\n",
    "dataset = load_dataset(\"ybelkada/ultrachat_200k\", split=\"train[:5000]\")\n",
    "\n",
    "def format(example):\n",
    "    return {\n",
    "        \"text\": f\"<|user|> {example['prompt']} <|assistant|> {example['completion']}\"\n",
    "    }\n",
    "\n",
    "dataset = dataset.map(format)"
   ]
  },
  {
   "cell_type": "markdown",
   "id": "e36793af",
   "metadata": {},
   "source": [
    "4. Set Up LoRA Adapter"
   ]
  },
  {
   "cell_type": "code",
   "execution_count": null,
   "id": "37c27226",
   "metadata": {},
   "outputs": [],
   "source": [
    "from peft import prepare_model_for_kbit_training, LoraConfig, get_peft_model\n",
    "\n",
    "model = prepare_model_for_kbit_training(model)\n",
    "\n",
    "lora_config = LoraConfig(\n",
    "    r=8,\n",
    "    lora_alpha=16,\n",
    "    target_modules=[\"q_proj\", \"v_proj\"],\n",
    "    lora_dropout=0.05,\n",
    "    bias=\"none\",\n",
    "    task_type=\"CAUSAL_LM\"\n",
    ")\n",
    "\n",
    "model = get_peft_model(model, lora_config)"
   ]
  },
  {
   "cell_type": "markdown",
   "id": "8869a85a",
   "metadata": {},
   "source": [
    "5. Configure Trainer"
   ]
  },
  {
   "cell_type": "code",
   "execution_count": null,
   "id": "5f259dd5",
   "metadata": {},
   "outputs": [],
   "source": [
    "from transformers import TrainingArguments, Trainer, DataCollatorForLanguageModeling\n",
    "\n",
    "training_args = TrainingArguments(\n",
    "    output_dir=\"./mistral-lora\",\n",
    "    per_device_train_batch_size=2,\n",
    "    gradient_accumulation_steps=4,\n",
    "    num_train_epochs=2,\n",
    "    logging_steps=10,\n",
    "    save_strategy=\"epoch\",\n",
    "    fp16=True,\n",
    "    learning_rate=2e-4,\n",
    "    report_to=\"none\"\n",
    ")\n",
    "\n",
    "data_collator = DataCollatorForLanguageModeling(\n",
    "    tokenizer=tokenizer,\n",
    "    mlm=False\n",
    ")\n",
    "\n",
    "trainer = Trainer(\n",
    "    model=model,\n",
    "    args=training_args,\n",
    "    train_dataset=dataset,\n",
    "    data_collator=data_collator,\n",
    ")"
   ]
  },
  {
   "cell_type": "markdown",
   "id": "eeb8bb4c",
   "metadata": {},
   "source": [
    "6. Train the Model"
   ]
  },
  {
   "cell_type": "code",
   "execution_count": null,
   "id": "18375ace",
   "metadata": {},
   "outputs": [],
   "source": [
    "trainer.train()"
   ]
  },
  {
   "cell_type": "markdown",
   "id": "5b3bea18",
   "metadata": {},
   "source": [
    "7. Generate with the Fine-Tuned Model"
   ]
  },
  {
   "cell_type": "code",
   "execution_count": null,
   "id": "97d21148",
   "metadata": {},
   "outputs": [],
   "source": [
    "from transformers import pipeline\n",
    "\n",
    "pipe = pipeline(\"text-generation\", model=model, tokenizer=tokenizer)\n",
    "\n",
    "pipe(\"Tell me a joke about AI:\", max_new_tokens=100)"
   ]
  }
 ],
 "metadata": {
  "kernelspec": {
   "display_name": "Python 3",
   "language": "python",
   "name": "python3"
  },
  "language_info": {
   "codemirror_mode": {
    "name": "ipython",
    "version": 3
   },
   "file_extension": ".py",
   "mimetype": "text/x-python",
   "name": "python",
   "nbconvert_exporter": "python",
   "pygments_lexer": "ipython3",
   "version": "3.9.6"
  }
 },
 "nbformat": 4,
 "nbformat_minor": 5
}
